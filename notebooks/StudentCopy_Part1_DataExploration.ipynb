{
  "cells": [
    {
      "cell_type": "markdown",
      "metadata": {
        "id": "s0q-CzAqIjyW"
      },
      "source": [
        "# AIMS AI4Science Practical\n",
        "This practical was developed by Kelsey Doerksen and Shreshth Malik from the [Oxford Applied and Theoretical Machine Learning Group](https://oatml.cs.ox.ac.uk/).\n",
        "\n"
      ]
    },
    {
      "cell_type": "markdown",
      "metadata": {
        "id": "MCb3qpKpUFHB"
      },
      "source": [
        "## Part 0: Add the data as a shortcut to your drive\n",
        "\n",
        "> The data is accessible [here](https://drive.google.com/drive/folders/1-VcjxgyaATr1fRTpGnwVZRGi0RF7CeVI?usp=drive_link). Add this folder as a shortcut to your google drive to be able to access it here."
      ]
    },
    {
      "cell_type": "markdown",
      "metadata": {
        "id": "TZWODhRmwZPe"
      },
      "source": [
        "## Part 1: Data Exploration\n",
        "An important part of any applied ML problem, particularly in scientific contexts, is a well-rounded understanding of the dataset you are working with. We've provided the initial code to begin exploring the Mars Frost dataset.\n"
      ]
    },
    {
      "cell_type": "code",
      "execution_count": null,
      "metadata": {
        "colab": {
          "base_uri": "https://localhost:8080/"
        },
        "id": "QdlcPSMNwFYh",
        "outputId": "df453006-d737-4582-abb4-68868b59eb8f"
      },
      "outputs": [],
      "source": [
        "# Imports\n",
        "import pandas as pd\n",
        "import numpy as np\n",
        "import os\n",
        "import os.path as op\n",
        "import json\n",
        "from pathlib import Path\n",
        "import shutil\n",
        "from tqdm.autonotebook import tqdm\n",
        "import logging\n",
        "import zipfile\n",
        "import imageio.v3 as iio\n",
        "import matplotlib.pyplot as plt\n",
        "from PIL import Image\n",
        "import random\n",
        "from tqdm import tqdm\n",
        "import shutil\n",
        "import shapely\n",
        "from omegaconf import OmegaConf\n",
        "from mars_frost.utils import DataUnit, get_metadata, get_sample, ImageMeta\n",
        "\n",
        "%load_ext autoreload\n",
        "%autoreload 2\n"
      ]
    },
    {
      "cell_type": "markdown",
      "metadata": {
        "id": "NAWXx6IqyUMO"
      },
      "source": [
        "### Step 1.0: Directory Setup\n",
        "\n",
        "First, we will setup the correct data directories and become familiar with the data storage structure.\n",
        "This data has been delivered directly from the science team - we therefore need to work around their existing data structure. Data is stored in subdirectories with the naming convention: `OBSERVATION-ID_IMAGE-COORDINATES` with each subdirectory containing a `labels` and `tiles` folder corresponding to the json labels describing each tile and a .png tile file."
      ]
    },
    {
      "cell_type": "code",
      "execution_count": 124,
      "metadata": {
        "id": "TLfZAlRsxbJy"
      },
      "outputs": [],
      "source": [
        "# Set the path location to where you have added the shortcut directory of the Mars Frost dataset\n",
        "data_dir = Path(\"practical_data\")\n",
        "\n",
        "\n",
        "train_data, test_data, val_data = (\n",
        "    DataUnit.from_ids(data_dir, data_dir / f\"{split_name}_source_images.txt\")\n",
        "    for split_name in [\"train\", \"test\", \"val\"]\n",
        ")\n",
        "\n",
        "\n",
        "def restructure(new_dir: str):\n",
        "    new_dir = Path(new_dir)\n",
        "\n",
        "    def restructure_dataset(new_base_path: Path, data_unit: DataUnit):\n",
        "        for dir_ in data_unit.dirs:\n",
        "            new_dir = new_base_path / dir_.stem\n",
        "            new_dir.mkdir(parents=True, exist_ok=True)\n",
        "            shutil.copytree(dir_, new_dir, dirs_exist_ok=True)\n",
        "\n",
        "    for data_unit, label in [\n",
        "        (train_data, \"train\"),\n",
        "        (test_data, \"test\"),\n",
        "        (val_data, \"val\"),\n",
        "    ]:\n",
        "        new_dir2 = new_dir / label\n",
        "        restructure_dataset(new_dir2, data_unit)\n"
      ]
    },
    {
      "cell_type": "code",
      "execution_count": 125,
      "metadata": {
        "colab": {
          "base_uri": "https://localhost:8080/"
        },
        "id": "dwDoBamyySMD",
        "outputId": "09c01352-0d91-403f-f888-53329ff5eb2f"
      },
      "outputs": [],
      "source": [
        "# Find all subframe directories\n",
        "# subdirs = [Path(subdir.stem) for subdir in data_dir.iterdir() if subdir.is_dir()]\n",
        "# # List of image ids\n",
        "# src_image_ids = [\"_\".join(a_path.name.split(\"_\")[:3]) for a_path in subdirs]\n",
        "# # Check that our image ids are greater than 0\n",
        "# print(len(src_image_ids))"
      ]
    },
    {
      "cell_type": "markdown",
      "metadata": {
        "id": "VUbAgQ_J0px-"
      },
      "source": [
        "### Step 2.0: Loading Data and Class Balance\n",
        "We have prepared a list of IDs for a train, test and validation split for the dataset as text files `train_source_images.txt`, `test_source_images.txt`, `val_source_images.txt`. You can use these splits or choose your own.\n"
      ]
    },
    {
      "cell_type": "markdown",
      "metadata": {
        "id": "xGVwuYrj1Ola"
      },
      "source": [
        "> **Question:** What should you consider when splitting your data into train, test, and validation?"
      ]
    },
    {
      "cell_type": "markdown",
      "metadata": {
        "id": "QXIQ8nVi1q-H"
      },
      "source": [
        "> **Task:** Run the following code to report the class balance."
      ]
    },
    {
      "cell_type": "code",
      "execution_count": null,
      "metadata": {
        "colab": {
          "base_uri": "https://localhost:8080/"
        },
        "id": "p8kr2uix6w3a",
        "outputId": "2cd244e0-aabc-458f-95a9-832d4ec030fd"
      },
      "outputs": [],
      "source": [
        "print(f\"Train Frost Count: {train_data.class_balance.frost_count}\")\n",
        "print(f\"Train Background Count: {train_data.class_balance.background_count}\")\n",
        "\n",
        "print(f\"Test Frost Count: {test_data.class_balance.frost_count}\")\n",
        "print(f\"Test Background Count: {test_data.class_balance.background_count}\")\n",
        "\n",
        "print(f\"Validate Frost Count: {val_data.class_balance.frost_count}\")\n",
        "print(f\"Validate Background Count: {val_data.class_balance.background_count}\")"
      ]
    },
    {
      "cell_type": "markdown",
      "metadata": {
        "id": "l47UMGjT1Dp9"
      },
      "source": [
        "> **Question:** What is the class balance of the dataset? Include the class balance for the total data as well as the train, test, and validation splits."
      ]
    },
    {
      "cell_type": "markdown",
      "metadata": {
        "id": "rgBFgXjf168d"
      },
      "source": [
        "### Step 3.0: Exploring the Dataset: Metadata\n",
        "There is helpful information in each tile's metadata. Run the code below to query subdirectory paths from the training set and print their metadata information."
      ]
    },
    {
      "cell_type": "code",
      "execution_count": 127,
      "metadata": {
        "id": "qZ5AYt9n2PTF"
      },
      "outputs": [],
      "source": [
        "def print_metadata(sample_filepath):\n",
        "    \"\"\"\n",
        "    Load label metadata to take a look\n",
        "    \"\"\"\n",
        "    data = get_metadata(sample_filepath)\n",
        "\n",
        "    # Print metadata key information\n",
        "    print(\"Metadata keys are:\\n\")\n",
        "    print(data.keys())\n",
        "    print(\"\\n\")\n",
        "    print(\"The data looks like:\\n\")\n",
        "    print(json.dumps(data, indent=4))\n",
        "\n",
        "\n",
        "# Printing Frost Metadata Sample\n"
      ]
    },
    {
      "cell_type": "code",
      "execution_count": null,
      "metadata": {
        "colab": {
          "base_uri": "https://localhost:8080/"
        },
        "id": "9G9iHEbH2Rh1",
        "outputId": "f8604ddb-7adb-4332-8e29-8a16e5ad7029"
      },
      "outputs": [],
      "source": []
    },
    {
      "cell_type": "code",
      "execution_count": null,
      "metadata": {},
      "outputs": [],
      "source": [
        "plt.imshow(image)"
      ]
    },
    {
      "cell_type": "code",
      "execution_count": null,
      "metadata": {},
      "outputs": [],
      "source": [
        "# Plot the image and overlay annotations\n",
        "\n",
        "\n",
        "def plot_image_and_annotations(image, metadata):\n",
        "    res_ = 0.5  # meters per pixel\n",
        "    ax_image = plt.imshow(image)\n",
        "    ax = ax_image.axes\n",
        "\n",
        "    image_meta = ImageMeta.from_dict(metadata, image.shape)\n",
        "\n",
        "    color_map = {\n",
        "        \"unknown_type\": \"red\",\n",
        "        \"co_2\": \"blue\",\n",
        "    }\n",
        "    image_meta.plot(ax, \"red\", color_map)\n",
        "    # Set axis labels to show 0.5m per pixel scale\n",
        "\n",
        "    # Set axis ticks to show distance in meters\n",
        "    ax.set_xticks(np.arange(0, image.shape[1], 100))\n",
        "    ax.set_yticks(np.arange(0, image.shape[0], 100))\n",
        "    ax.set_xticklabels([f\"{x * res_:.1f}\" for x in ax.get_xticks()])\n",
        "    ax.set_yticklabels([f\"{y * res_:.1f}\" for y in ax.get_yticks()])\n",
        "\n",
        "    plt.tight_layout()\n",
        "\n",
        "    ax.set_xlabel(\"Relative width (m))\")\n",
        "    ax.set_ylabel(\"Relative height (m)\")\n",
        "\n",
        "    ax.set_xlim(0, image.shape[1])\n",
        "    ax.set_ylim(image.shape[0], 0)\n",
        "\n",
        "    fig = ax.figure\n",
        "\n",
        "    return fig\n",
        "\n",
        "    # for k in range(100):\n",
        "image, metadata = get_sample(train_data, True)\n",
        "\n",
        "fig = plot_image_and_annotations(image, metadata)"
      ]
    },
    {
      "cell_type": "code",
      "execution_count": null,
      "metadata": {},
      "outputs": [],
      "source": [
        "image_meta = ImageMeta.from_dict(metadata, image.shape)\n",
        "\n",
        "coverage = image_meta.get_coverage()\n",
        "\n",
        "print(coverage)\n"
      ]
    },
    {
      "cell_type": "code",
      "execution_count": null,
      "metadata": {},
      "outputs": [],
      "source": [
        "plt.imshow(image)"
      ]
    },
    {
      "cell_type": "code",
      "execution_count": 132,
      "metadata": {},
      "outputs": [],
      "source": [
        "def plot_images(directory_path, file_list, file_ref, class_type, max_imgs_per_row=5):\n",
        "    \"\"\"\n",
        "    Plot data to see what it looks like\n",
        "    \"\"\"\n",
        "    max_imgs = len(file_list)\n",
        "    fig, axs = plt.subplots(1, max_imgs_per_row, figsize=(16, max_imgs_per_row))\n",
        "    # Select n= max_imgs_per_row from subdirectory to plot\n",
        "    for i in range(max_imgs_per_row):\n",
        "        img = iio.imread(\"{}/{}\".format(dir_path, file_list[i]))\n",
        "        axs[i].imshow(img, cmap=\"gray\")\n",
        "        axs[i].axis(\"off\")\n",
        "    fig.suptitle(\"{} Examples from {}\".format(class_type, file_ref), fontsize=16)\n",
        "    fig.tight_layout()\n",
        "    plt.tight_layout()\n",
        "    plt.show()"
      ]
    },
    {
      "cell_type": "code",
      "execution_count": null,
      "metadata": {
        "colab": {
          "base_uri": "https://localhost:8080/"
        },
        "id": "iI8aK5j_2ZeT",
        "outputId": "27186655-3b49-462b-ebdb-723d01533dc0"
      },
      "outputs": [],
      "source": [
        "# Printing Background Metadata Sample\n",
        "meta_dir = (\n",
        "    data_dir\n",
        "    / train_subdirs[random.choice(train_background_idxs)]\n",
        "    / Path(\"labels/background\")\n",
        ")\n",
        "label_files = os.listdir(meta_dir)\n",
        "print_metadata(\"{}/{}\".format(meta_dir, label_files[10]))  # Choose any index you like"
      ]
    },
    {
      "cell_type": "markdown",
      "metadata": {
        "id": "9OgVvxT72gYs"
      },
      "source": [
        "> **Question:** What contextual information is available in the data label metadata. What value could this information give?"
      ]
    },
    {
      "cell_type": "markdown",
      "metadata": {
        "id": "dC0IAnk42qRL"
      },
      "source": [
        "### Step 4.0: Visualizing the Data\n",
        "Now that we have taken a look at some of the metdata and found the class balance, let's visualize some examples of frost and no frost (background). Run the code below to plot samples from both classes.\n",
        "Note: We suggest plotting the data in format `cmap=\"gray\"` to more easily visualize and better represent what the data looked like when collected by HiRISE."
      ]
    },
    {
      "cell_type": "code",
      "execution_count": 57,
      "metadata": {
        "id": "OsCrNdyT2lAR"
      },
      "outputs": [],
      "source": [
        "def plot_images(directory_path, file_list, file_ref, class_type, max_imgs_per_row=5):\n",
        "    \"\"\"\n",
        "    Plot data to see what it looks like\n",
        "    \"\"\"\n",
        "    max_imgs = len(file_list)\n",
        "    fig, axs = plt.subplots(1, max_imgs_per_row, figsize=(16, max_imgs_per_row))\n",
        "    # Select n= max_imgs_per_row from subdirectory to plot\n",
        "    for i in range(max_imgs_per_row):\n",
        "        img = iio.imread(\"{}/{}\".format(meta_dir, file_list[i]))\n",
        "        axs[i].imshow(img, cmap=\"gray\")\n",
        "        axs[i].axis(\"off\")\n",
        "    fig.suptitle(\"{} Examples from {}\".format(class_type, file_ref), fontsize=16)\n",
        "    fig.tight_layout()\n",
        "    plt.tight_layout()\n",
        "    plt.show()"
      ]
    },
    {
      "cell_type": "code",
      "execution_count": null,
      "metadata": {
        "colab": {
          "base_uri": "https://localhost:8080/",
          "height": 439
        },
        "id": "1YcvfR8i29nF",
        "outputId": "219da7d2-75f3-47f3-d40c-3c6b8c11939b"
      },
      "outputs": [],
      "source": [
        "# Plot some Frost samples\n",
        "sample = str(train_subdirs[random.choice(train_frost_idxs)])\n",
        "meta_dir = data_dir / Path(sample) / Path(\"tiles/frost\")\n",
        "tile_files = os.listdir(meta_dir)\n",
        "plot_images(meta_dir, tile_files, sample, \"Frost\")"
      ]
    },
    {
      "cell_type": "code",
      "execution_count": null,
      "metadata": {
        "colab": {
          "base_uri": "https://localhost:8080/",
          "height": 439
        },
        "id": "NTvB6UDX2_Si",
        "outputId": "ec1b1591-83d8-46dd-8c9a-ff4c1c727970"
      },
      "outputs": [],
      "source": [
        "# Plot some Background samples\n",
        "sample = str(train_subdirs[random.choice(train_background_idxs)])\n",
        "meta_dir = data_dir / Path(sample) / Path(\"tiles/background\")\n",
        "tile_files = os.listdir(meta_dir)\n",
        "plot_images(meta_dir, tile_files, sample, \"Background\")"
      ]
    },
    {
      "cell_type": "markdown",
      "metadata": {
        "id": "jL3nYLRQ3Dqs"
      },
      "source": [
        "> **Question:** Plot examples of the background and frost classes. What differences do you notice?\n",
        "\n",
        "many visible rocks\n",
        "frost is smooth and flowy"
      ]
    },
    {
      "cell_type": "markdown",
      "metadata": {
        "id": "CkI1R29C3Ks1"
      },
      "source": [
        "> **Question:** How can you use visualization tools (plots, figures, diagrams) to communicate information about the dataset (data distribution, etc), that would provide scientific value? Create at least one example of a visual representation that tells something about the data."
      ]
    },
    {
      "cell_type": "markdown",
      "metadata": {
        "id": "K7VdJYnZ3Ngb"
      },
      "source": [
        "### Don't need to run! Step 5.0: Preparing for Modelling (Part 2 prep)\n",
        "The dataset in its current form is in the form of `.png` files with `json` counterpart labels. If desired, you can save the data as .npy files if you prefer to do further data manipulation. The below code splits the train, test, validation tiles into subfolders for easy loading using Keras in Part 2."
      ]
    },
    {
      "cell_type": "code",
      "execution_count": 60,
      "metadata": {
        "id": "vy__3vlkR20n"
      },
      "outputs": [],
      "source": [
        "def organize_data(save_dir, idx_list, subdir_list, data_label, data_type):\n",
        "    \"\"\"\n",
        "    Save data into train, test, val folders for further processing later\n",
        "    \"\"\"\n",
        "    save_dir = save_dir / Path(data_label)\n",
        "    for idx in tqdm(idx_list, desc=\"Processing {} indices\".format(data_label)):\n",
        "        subdir = subdir_list[idx]\n",
        "        dir_path = data_dir / subdir / Path(\"{}/{}\".format(data_type, data_label))\n",
        "        for file in dir_path.iterdir():\n",
        "            shutil.copy2(file, save_dir / file.name)"
      ]
    },
    {
      "cell_type": "code",
      "execution_count": null,
      "metadata": {
        "id": "93g47jts4VAt"
      },
      "outputs": [],
      "source": [
        "print()"
      ]
    },
    {
      "cell_type": "code",
      "execution_count": null,
      "metadata": {
        "colab": {
          "base_uri": "https://localhost:8080/",
          "height": 355
        },
        "id": "r-pID2S2SOfa",
        "outputId": "66d1da93-2c99-4555-ca79-76d752a9f9ca"
      },
      "outputs": [],
      "source": [
        "# --- Train Data: Frost ---\n",
        "save_dir = drive_mount / \"AIMS_AI4Science/practical_labels_organized/train\"\n",
        "save_dir.mkdir(parents=True, exist_ok=True)\n",
        "organize_data(save_dir, train_frost_idxs, train_subdirs, \"frost\", \"labels\")"
      ]
    },
    {
      "cell_type": "code",
      "execution_count": null,
      "metadata": {
        "colab": {
          "base_uri": "https://localhost:8080/"
        },
        "id": "f2y4dkV2njn_",
        "outputId": "d857b038-749d-4c73-d0ce-cc99a6ed0fba"
      },
      "outputs": [],
      "source": [
        "save_dir = Path(\"/content/drive/MyDrive/AIMS AI4Science/practical_data_organized/train\")\n",
        "organize_data(save_dir, train_frost_idxs, train_subdirs, \"frost\", \"tiles\")"
      ]
    },
    {
      "cell_type": "code",
      "execution_count": null,
      "metadata": {
        "colab": {
          "base_uri": "https://localhost:8080/"
        },
        "id": "D-9iy8qY9zlt",
        "outputId": "3a915b83-e8ce-45ee-d0a1-a33d06257762"
      },
      "outputs": [],
      "source": [
        "# --- Train Data: Background ---\n",
        "save_dir = Path(\n",
        "    \"/content/drive/MyDrive/AIMS AI4Science/practical_labels_organized/train/\"\n",
        ")\n",
        "organize_data(save_dir, train_background_idxs, train_subdirs, \"background\", \"labels\")\n",
        "\n",
        "save_dir = Path(\n",
        "    \"/content/drive/MyDrive/AIMS AI4Science/practical_data_organized/train/\"\n",
        ")\n",
        "organize_data(save_dir, train_background_idxs, train_subdirs, \"background\", \"tiles\")"
      ]
    },
    {
      "cell_type": "code",
      "execution_count": null,
      "metadata": {
        "colab": {
          "background_save": true
        },
        "id": "JSNwuqUFFeZq",
        "outputId": "f1dccead-5237-4045-db6d-e88fb3597847"
      },
      "outputs": [],
      "source": [
        "# --- Test Data: Frost ---\n",
        "save_dir = Path(\n",
        "    \"/content/drive/MyDrive/AIMS AI4Science/practical_labels_organized/test/\"\n",
        ")\n",
        "organize_data(save_dir, test_frost_idxs, test_subdirs, \"frost\", \"labels\")\n",
        "\n",
        "save_dir = Path(\"/content/drive/MyDrive/AIMS AI4Science/practical_data_organized/test/\")\n",
        "organize_data(save_dir, test_frost_idxs, test_subdirs, \"frost\", \"tiles\")"
      ]
    },
    {
      "cell_type": "code",
      "execution_count": null,
      "metadata": {
        "colab": {
          "background_save": true
        },
        "id": "FYLl58-EFg0a",
        "outputId": "05b8620c-954b-4b7c-c7ed-a72b8c4e5421"
      },
      "outputs": [],
      "source": [
        "# --- Test Data: Background ---\n",
        "save_dir = Path(\n",
        "    \"/content/drive/MyDrive/AIMS AI4Science/practical_labels_organized/test\"\n",
        ")\n",
        "organize_data(save_dir, test_background_idxs, test_subdirs, \"background\", \"labels\")\n",
        "\n",
        "save_dir = Path(\"/content/drive/MyDrive/AIMS AI4Science/practical_data_organized/test\")\n",
        "organize_data(save_dir, test_background_idxs, test_subdirs, \"background\", \"tiles\")"
      ]
    },
    {
      "cell_type": "code",
      "execution_count": null,
      "metadata": {
        "id": "SFyT9UsPFYA3"
      },
      "outputs": [],
      "source": [
        "# --- Val Data: Frost ---\n",
        "save_dir = Path(\n",
        "    \"/content/drive/MyDrive/AIMS AI4Science/practical_labels_organized/validate\"\n",
        ")\n",
        "organize_data(save_dir, validate_frost_idxs, validate_subdirs, \"frost\", \"labels\")\n",
        "\n",
        "save_dir = Path(\n",
        "    \"/content/drive/MyDrive/AIMS AI4Science/practical_data_organized/validate\"\n",
        ")\n",
        "organize_data(save_dir, validate_frost_idxs, validate_subdirs, \"frost\", \"tiles\")"
      ]
    },
    {
      "cell_type": "code",
      "execution_count": null,
      "metadata": {
        "id": "2w53GxW6FuB-"
      },
      "outputs": [],
      "source": [
        "# --- Val Data: Background ---\n",
        "save_dir = Path(\n",
        "    \"/content/drive/MyDrive/AIMS AI4Science/practical_labels_organized/validate\"\n",
        ")\n",
        "organize_data(\n",
        "    save_dir, validate_background_idxs, validate_subdirs, \"background\", \"labels\"\n",
        ")\n",
        "\n",
        "save_dir = Path(\n",
        "    \"/content/drive/MyDrive/AIMS AI4Science/practical_data_organized/validate\"\n",
        ")\n",
        "organize_data(save_dir, validate_background_idxs, validate_subdirs, \"frost\", \"tiles\")"
      ]
    }
  ],
  "metadata": {
    "colab": {
      "collapsed_sections": [
        "K7VdJYnZ3Ngb"
      ],
      "provenance": []
    },
    "kernelspec": {
      "display_name": "aimsci",
      "language": "python",
      "name": "python3"
    },
    "language_info": {
      "codemirror_mode": {
        "name": "ipython",
        "version": 3
      },
      "file_extension": ".py",
      "mimetype": "text/x-python",
      "name": "python",
      "nbconvert_exporter": "python",
      "pygments_lexer": "ipython3",
      "version": "3.11.11"
    }
  },
  "nbformat": 4,
  "nbformat_minor": 0
}
